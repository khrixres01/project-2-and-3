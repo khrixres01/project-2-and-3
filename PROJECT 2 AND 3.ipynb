{
 "cells": [
  {
   "cell_type": "code",
   "execution_count": 1,
   "metadata": {},
   "outputs": [
    {
     "data": {
      "text/plain": [
       "\"\\nProject 1: Task Manager Problem: You're working for an online marketplace. Users often search for products using keywords. Given\\na list of product names and their corresponding IDs, design a function that allows users to input a keyword and quickly find the product they are looking for.\\nImplement a linear search algorithm to search for the keyword in the list of product names and return the corresponding product ID\\n\""
      ]
     },
     "execution_count": 1,
     "metadata": {},
     "output_type": "execute_result"
    }
   ],
   "source": [
    "'''\n",
    "Project 1: Task Manager Problem: You're working for an online marketplace. Users often search for products using keywords. Given\n",
    "a list of product names and their corresponding IDs, design a function that allows users to input a keyword and quickly find the product they are looking for.\n",
    "Implement a linear search algorithm to search for the keyword in the list of product names and return the corresponding product ID\n",
    "'''"
   ]
  },
  {
   "cell_type": "code",
   "execution_count": 2,
   "metadata": {},
   "outputs": [
    {
     "name": "stdout",
     "output_type": "stream",
     "text": [
      "Enter a keyword: 1\n",
      "Product not found.\n"
     ]
    }
   ],
   "source": [
    "class Product:\n",
    "    def __init__(self, id, name):\n",
    "        self.id = id\n",
    "        self.name = name\n",
    "\n",
    "class ProductSearch:\n",
    "    def __init__(self):\n",
    "        self.product_list = []\n",
    "    \n",
    "    def add_product(self, product):\n",
    "        self.product_list.append(product)\n",
    "    \n",
    "    def linear_search(self, keyword):\n",
    "        for product in self.product_list:\n",
    "            if keyword in product.name:\n",
    "                return product.id\n",
    "        return None\n",
    "\n",
    "# Create instances of products\n",
    "pineapple = Product(1, 'pineapple')\n",
    "grape = Product(2, 'grape')\n",
    "orange = Product(3, 'orange')\n",
    "ginger = Product(4, 'ginger')\n",
    "peer = Product(5, 'peer')\n",
    "banana = Product(6, 'banana')\n",
    "\n",
    "# Create a ProductSearch instance and add products\n",
    "product_search = ProductSearch()\n",
    "product_search.add_product(pineapple)\n",
    "product_search.add_product(grape)\n",
    "product_search.add_product(orange)\n",
    "product_search.add_product(ginger)\n",
    "product_search.add_product(peer)\n",
    "product_search.add_product(banana)\n",
    "\n",
    "# User input keyword\n",
    "user_keyword = input(\"Enter a keyword: \")\n",
    "\n",
    "result = product_search.linear_search(user_keyword)\n",
    "\n",
    "if result is not None:\n",
    "    print(f\"Product ID: {result}\")\n",
    "else:\n",
    "    print(\"Product not found.\")\n"
   ]
  },
  {
   "cell_type": "code",
   "execution_count": 3,
   "metadata": {},
   "outputs": [
    {
     "data": {
      "text/plain": [
       "\"\\nBuild a movie recommendation system that suggests movies to users based on their preferences.\\nCreate a class-based system where each user can rate movies. Use a dictionary to store movie ratings, and\\nimplement a recommendation algorithm that suggests movies similar to those the user has liked. The\\nprogram should allow users to:\\ni. Add new movies to the system.\\nii. Rate movies on a scale of 1 to 5.\\niii. Get recommendations based on the user's highest-rated movies using a recommendation decorator.\\nImplement a function to find movies with the highest and lowest average ratings\\n\\n\""
      ]
     },
     "execution_count": 3,
     "metadata": {},
     "output_type": "execute_result"
    }
   ],
   "source": [
    "'''\n",
    "Build a movie recommendation system that suggests movies to users based on their preferences.\n",
    "Create a class-based system where each user can rate movies. Use a dictionary to store movie ratings, and\n",
    "implement a recommendation algorithm that suggests movies similar to those the user has liked. The\n",
    "program should allow users to:\n",
    "i. Add new movies to the system.\n",
    "ii. Rate movies on a scale of 1 to 5.\n",
    "iii. Get recommendations based on the user's highest-rated movies using a recommendation decorator.\n",
    "Implement a function to find movies with the highest and lowest average ratings\n",
    "\n",
    "'''"
   ]
  },
  {
   "cell_type": "code",
   "execution_count": 4,
   "metadata": {},
   "outputs": [
    {
     "name": "stdout",
     "output_type": "stream",
     "text": [
      "enter your id ---> user 1\n",
      "Recommended movies for user 1 is: ['Merlin']\n",
      "Highest rated movie: Merlin\n",
      "Lowest rated movie: Pirate of the caribeen\n"
     ]
    }
   ],
   "source": [
    "# Define a class named Movie Recommendation System\n",
    "class MovieRecommendationSystem:\n",
    "    # Constructor method: Initializes an instance of the class\n",
    "    def __init__(self):\n",
    "        # Initialize an empty dictionary to store movie ratings\n",
    "        self.movies = {}\n",
    "\n",
    "    # Method to add a movie to the system\n",
    "    def add_movie(self, movie_name):\n",
    "        # Add an entry in the dictionary with the movie name as the key and an empty list as the value\n",
    "        self.movies[movie_name] = []\n",
    "\n",
    "    # Method to rate a movie\n",
    "    def movie_rating(self, movie_name, rating):\n",
    "        # Check if the movie name is in the dictionary\n",
    "        if movie_name in self.movies:\n",
    "            # Append the rating to the list of ratings for the movie\n",
    "            self.movies[movie_name].append(rating)\n",
    "        else:\n",
    "            # If movie is not found, print an error message\n",
    "            print(\"Movie not found.\")\n",
    "    \n",
    "    # Method to get movie recommendations for a user\n",
    "    def get_recommendations(self, user):\n",
    "        # Find the movie with the highest total rating\n",
    "        highest_rated_movie = max(self.movies, key=lambda movie: sum(self.movies[movie]))\n",
    "        # Generate a list of recommended movies:\n",
    "        recommendations = [\n",
    "            movie for movie in self.movies\n",
    "            # Include movies that the user has rated and the highest rated movie\n",
    "            if movie == highest_rated_movie\n",
    "        ]\n",
    "        return recommendations\n",
    "\n",
    "    # Method to find the movie with the highest average rating\n",
    "    def find_highest_rated_movie(self):\n",
    "        # Find the movie with the highest total rating\n",
    "        highest_rated_movie = max(self.movies, key=lambda movie: sum(self.movies[movie]))\n",
    "        return highest_rated_movie\n",
    "\n",
    "    # Method to find the movie with the lowest average rating\n",
    "    def find_lowest_rated_movie(self):\n",
    "        # Find the movie with the lowest total rating\n",
    "        lowest_rated_movie = min(self.movies, key=lambda movie: sum(self.movies[movie]))\n",
    "        return lowest_rated_movie\n",
    "\n",
    "# Create an instance of the MovieRecommendationSystem class\n",
    "movie_system = MovieRecommendationSystem()\n",
    "\n",
    "# Add movies to the movie system\n",
    "movie_system.add_movie(\"Legend of the seeker\")\n",
    "movie_system.add_movie(\"Merlin\")\n",
    "movie_system.add_movie(\"Pirate of the caribeen\")\n",
    "movie_system.add_movie(\"The originals\")\n",
    "movie_system.add_movie(\"vampire diaries\")\n",
    "movie_system.add_movie(\"Scorpion\")\n",
    "movie_system.add_movie(\"Empire\")\n",
    "movie_system.add_movie(\"Into the badlands\")\n",
    "\n",
    "# Rate movies using the rate_movie method\n",
    "movie_system.movie_rating(\"Legend of the seeker\", 8)\n",
    "movie_system.movie_rating(\"Merlin\", 9)\n",
    "movie_system.movie_rating(\"Pirate of the caribeen\", 4)\n",
    "movie_system.movie_rating(\"The originals\", 7)\n",
    "movie_system.movie_rating(\"vampire diaries\", 6)\n",
    "movie_system.movie_rating(\"Scorpion\", 6)\n",
    "movie_system.movie_rating(\"Empire\", 5)\n",
    "movie_system.movie_rating(\"Into the badlands\", 7)\n",
    "\n",
    "# Get movie recommendations for a user\n",
    "user = input('enter your id ---> user ')\n",
    "recommended_movies = movie_system.get_recommendations(user)\n",
    "print(f\"Recommended movies for user {user} is: {recommended_movies}\")\n",
    "\n",
    "# Find the movie with the highest and lowest average ratings\n",
    "highest_rated_movie = movie_system.find_highest_rated_movie()\n",
    "lowest_rated_movie = movie_system.find_lowest_rated_movie()\n",
    "print(f\"Highest rated movie: {highest_rated_movie}\")\n",
    "print(f\"Lowest rated movie: {lowest_rated_movie}\")"
   ]
  },
  {
   "cell_type": "markdown",
   "metadata": {},
   "source": [
    "### project 3 "
   ]
  },
  {
   "cell_type": "code",
   "execution_count": 5,
   "metadata": {},
   "outputs": [
    {
     "data": {
      "text/plain": [
       "\"\\nImagine you're an air traffic controller during a busy day at the airport. Due to an emergency, some\\nflights need to make an emergency landing. Design a system that prioritizes these emergency landings over\\nregular scheduled flights. Develop a program that takes flight details, including emergency status, and\\nmanages the landing queue efficiently.\\n\\n\""
      ]
     },
     "execution_count": 5,
     "metadata": {},
     "output_type": "execute_result"
    }
   ],
   "source": [
    "'''\n",
    "Imagine you're an air traffic controller during a busy day at the airport. Due to an emergency, some\n",
    "flights need to make an emergency landing. Design a system that prioritizes these emergency landings over\n",
    "regular scheduled flights. Develop a program that takes flight details, including emergency status, and\n",
    "manages the landing queue efficiently.\n",
    "\n",
    "'''"
   ]
  },
  {
   "cell_type": "code",
   "execution_count": 9,
   "metadata": {},
   "outputs": [
    {
     "name": "stdout",
     "output_type": "stream",
     "text": [
      "Handling emergency landing for flight BA456\n",
      "Handling emergency landing for flight DL101\n",
      "Handling scheduled landing for flight AA123\n",
      "Handling scheduled landing for flight UA789\n"
     ]
    }
   ],
   "source": [
    "import queue\n",
    "\n",
    "class Flight:\n",
    "    def __init__(self, flight_number, emergency=False):\n",
    "        self.flight_number = flight_number\n",
    "        self.emergency = emergency\n",
    "\n",
    "class AirTrafficController:\n",
    "    def __init__(self):\n",
    "        self.emergency_queue = queue.Queue()\n",
    "        self.scheduled_queue = queue.Queue()\n",
    "\n",
    "    def add_flight(self, flight):\n",
    "        if flight.emergency:\n",
    "            self.emergency_queue.put(flight)\n",
    "        else:\n",
    "            self.scheduled_queue.put(flight)\n",
    "\n",
    "    def prioritize_emergencies(self):\n",
    "        while not self.emergency_queue.empty():\n",
    "            emergency_flight = self.emergency_queue.get()\n",
    "            print(f\"Handling emergency landing for flight {emergency_flight.flight_number}\")\n",
    "\n",
    "        while not self.scheduled_queue.empty():\n",
    "            scheduled_flight = self.scheduled_queue.get()\n",
    "            print(f\"Handling scheduled landing for flight {scheduled_flight.flight_number}\")\n",
    "\n",
    "    controller = AirTrafficController()\n",
    "\n",
    "    # Add flights to the system\n",
    "    controller.add_flight(Flight(\"AA123\"))\n",
    "    controller.add_flight(Flight(\"BA456\", emergency=True))\n",
    "    controller.add_flight(Flight(\"UA789\"))\n",
    "    controller.add_flight(Flight(\"DL101\", emergency=True))\n",
    "\n",
    "    # Prioritize and handle flights\n",
    "    controller.prioritize_emergencies()\n"
   ]
  },
  {
   "cell_type": "code",
   "execution_count": 10,
   "metadata": {},
   "outputs": [
    {
     "data": {
      "text/plain": [
       "\"\\nYou are tasked with developing a plagiarism detection system for a school. Given a text file\\ncontaining a student's essay and a set of reference files, you need to determine if any part of the essay is\\ncopied from the reference materials. Design a program that reads and compares the essay with the reference\\nfiles to identify potential plagiarism instances.\\n\""
      ]
     },
     "execution_count": 10,
     "metadata": {},
     "output_type": "execute_result"
    }
   ],
   "source": [
    "'''\n",
    "You are tasked with developing a plagiarism detection system for a school. Given a text file\n",
    "containing a student's essay and a set of reference files, you need to determine if any part of the essay is\n",
    "copied from the reference materials. Design a program that reads and compares the essay with the reference\n",
    "files to identify potential plagiarism instances.\n",
    "'''"
   ]
  },
  {
   "cell_type": "code",
   "execution_count": null,
   "metadata": {},
   "outputs": [],
   "source": [
    "import string\n",
    "from collections import Counter\n",
    "\n",
    "# Function to tokenize text into words\n",
    "def tokenize(text):\n",
    "    words = text.lower().split()\n",
    "    # Remove punctuation from words\n",
    "    words = [word.strip(string.punctuation) for word in words]\n",
    "    return words\n",
    "\n",
    "# Function to calculate word frequencies\n",
    "def word_frequencies(text):\n",
    "    words = tokenize(text)\n",
    "    return Counter(words)\n",
    "\n",
    "# Function to compare two texts for potential plagiarism\n",
    "def compare_texts(student_essay, reference_text):\n",
    "    student_freq = word_frequencies(student_essay)\n",
    "    reference_freq = word_frequencies(reference_text)\n",
    "\n",
    "    # Calculate the Jaccard similarity between the two sets of words\n",
    "    intersection = sum((student_freq & reference_freq).values())\n",
    "    union = sum((student_freq | reference_freq).values())\n",
    "    similarity = intersection / union\n",
    "\n",
    "    return similarity\n",
    "\n",
    "# Read the student's essay\n",
    "with open('student_essay.txt', 'r') as student_file:\n",
    "    student_essay = student_file.read()\n",
    "\n",
    "# Read and compare with reference files\n",
    "reference_files = ['reference1.txt', 'reference2.txt', 'reference3.txt']\n",
    "threshold = 0.5  # You can adjust this threshold to determine what constitutes plagiarism\n",
    "\n",
    "for ref_file in reference_files:\n",
    "    with open(ref_file, 'r') as ref:\n",
    "        reference_text = ref.read()\n",
    "        similarity = compare_texts(student_essay, reference_text)\n",
    "\n",
    "        if similarity >= threshold:\n",
    "            print(f\"Potential plagiarism found in {ref_file} (Similarity: {similarity:.2f})\")\n",
    "\n",
    "# Display the frequency of each word in the student's essay\n",
    "student_word_freq = word_frequencies(student_essay)\n",
    "print(\"\\nWord Frequencies in Student's Essay:\")\n",
    "for word, freq in student_word_freq.items():\n",
    "    print(f\"{word}: {freq}\")"
   ]
  }
 ],
 "metadata": {
  "kernelspec": {
   "display_name": "Python 3",
   "language": "python",
   "name": "python3"
  },
  "language_info": {
   "codemirror_mode": {
    "name": "ipython",
    "version": 3
   },
   "file_extension": ".py",
   "mimetype": "text/x-python",
   "name": "python",
   "nbconvert_exporter": "python",
   "pygments_lexer": "ipython3",
   "version": "3.8.5"
  }
 },
 "nbformat": 4,
 "nbformat_minor": 4
}
